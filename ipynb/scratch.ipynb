{
 "cells": [
  {
   "cell_type": "code",
   "execution_count": 1,
   "id": "5ba3207f",
   "metadata": {},
   "outputs": [],
   "source": [
    "import numpy as np\n",
    "import scipy.optimize"
   ]
  },
  {
   "cell_type": "code",
   "execution_count": 2,
   "id": "535e7b3e",
   "metadata": {},
   "outputs": [],
   "source": [
    "weights = np.load('/scratch/src/reviewer-assignment/mk/mk.npy')\n",
    "affinity = weights.transpose()\n",
    "\n",
    "n_rev = np.size(weights, axis=0)\n",
    "n_pap = np.size(weights, axis=1)\n",
    "\n",
    "a = weights.flatten()\n",
    "b = weights.flatten()"
   ]
  },
  {
   "cell_type": "code",
   "execution_count": 3,
   "id": "6b32a1ed",
   "metadata": {},
   "outputs": [],
   "source": [
    "Np = np.zeros((n_pap, n_pap*n_rev))\n",
    "Nr = np.zeros((n_rev, n_pap*n_rev))"
   ]
  },
  {
   "cell_type": "code",
   "execution_count": 4,
   "id": "0e381f78",
   "metadata": {},
   "outputs": [],
   "source": [
    "for pdx,p in enumerate(affinity):\n",
    "    for rdx,val in enumerate(p):\n",
    "        Np[pdx][rdx*n_pap + pdx] = val\n",
    "        \n",
    "for rdx,r in enumerate(weights):\n",
    "    for pdx,val in enumerate(r):\n",
    "        Nr[rdx][rdx*n_pap + pdx] = val"
   ]
  },
  {
   "cell_type": "code",
   "execution_count": 5,
   "id": "bc210270",
   "metadata": {},
   "outputs": [],
   "source": [
    "I = np.identity(n_pap*n_rev)\n",
    "K = np.vstack((Nr, Np, I, -I))"
   ]
  },
  {
   "cell_type": "code",
   "execution_count": 6,
   "id": "55cdb91f",
   "metadata": {},
   "outputs": [],
   "source": [
    "cr = 20*np.ones(n_rev)\n",
    "cp = 4*np.ones(n_pap)\n",
    "zeroes = np.zeros(b.shape[0])\n",
    "ones = np.ones(b.shape[0])\n",
    "d = np.concatenate((cp, cr, ones, zeroes))"
   ]
  },
  {
   "cell_type": "code",
   "execution_count": 7,
   "id": "73521c25",
   "metadata": {},
   "outputs": [],
   "source": [
    "res = scipy.optimize.linprog(a, A_ub=K, b_ub=d)"
   ]
  },
  {
   "cell_type": "code",
   "execution_count": null,
   "id": "7f78b95b",
   "metadata": {},
   "outputs": [],
   "source": []
  },
  {
   "cell_type": "code",
   "execution_count": 8,
   "id": "3f6b66fa",
   "metadata": {},
   "outputs": [
    {
     "data": {
      "text/plain": [
       "array([ 1.1, 11. , 18.5, 15. , 13.3, 19.1, 13.8, 14.8, 14.5, 12.5, 15. ,\n",
       "        4. , 17.9, 19.2,  2.1, 14.2,  1.1,  1.5, 15.2, 11.3, 10. ,  3.1,\n",
       "       14.5, 16. , 14.5, 15.6, 10.5,  6.1,  2.5, 15. ,  6.4, 13.3,  1.1,\n",
       "       11.9, 10.7, 16.2,  9.3, 14.8, 18.9, 17.4, 15. , 10. , 18.6, 11.4,\n",
       "       16. , 18.9, 14.8, 18.7,  3.1,  3.1, 11.3, 15.7, 12.3, 11.9,  2.1,\n",
       "       14.7,  3.2, 19.8,  6.8, 15.6,  6.7, 18.9,  3.1,  3.7,  4.3, 13.3,\n",
       "        5.9,  3. ,  8.5, 14.6,  8.9,  8.9, 16.8, 13.3, 14. ,  1.1, 15. ,\n",
       "       18.9,  3.1,  8.4,  1.1, 14.5, 13.9, 14.7, 14.2, 15. ,  3.7, 14.8,\n",
       "       13.3, 15. , 14.5, 16.4,  8.3, 14.5, 16. , 14.6, 14.5, 13. , 15. ,\n",
       "       11.3,  5.7, 14.5, 12.1,  2.1, 14.8, 14.8, 16. , 10.7,  6. , 14.5,\n",
       "        3.7, 13.3, 14.5, 15.8, 10.7, 12.8, 18.9,  2.1, 16. , 19.1, 11.3,\n",
       "       13.1,  5.9, 15. , 14.8,  3.2, 14.8, 11.9,  1.1, 11.7, 14.9,  6.1,\n",
       "        2.1])"
      ]
     },
     "execution_count": 8,
     "metadata": {},
     "output_type": "execute_result"
    }
   ],
   "source": [
    "Np.sum(axis=1)"
   ]
  },
  {
   "cell_type": "code",
   "execution_count": 9,
   "id": "aa1b59cd",
   "metadata": {},
   "outputs": [
    {
     "data": {
      "text/plain": [
       "((133, 47), (47, 133))"
      ]
     },
     "execution_count": 9,
     "metadata": {},
     "output_type": "execute_result"
    }
   ],
   "source": [
    "affinity.shape, weights.shape"
   ]
  },
  {
   "cell_type": "code",
   "execution_count": 10,
   "id": "786add89",
   "metadata": {},
   "outputs": [
    {
     "data": {
      "text/plain": [
       "(2.0, array([0., 0., 1., ..., 0., 0., 0.]))"
      ]
     },
     "execution_count": 10,
     "metadata": {},
     "output_type": "execute_result"
    }
   ],
   "source": [
    "N = np.vstack((Nr, Np))\n",
    "Nz = np.zeros((n_rev+n_pap, n_pap*n_rev))\n",
    "nonzero = np.nonzero(N)\n",
    "nonzero_row = nonzero[0]\n",
    "nonzero_col = nonzero[1]\n",
    "for row, col in zip(nonzero_row, nonzero_col):\n",
    "    Nz[row][col] = 1\n",
    "    \n",
    "np.max(Nz.sum(axis=0)), Nz[0]"
   ]
  },
  {
   "cell_type": "code",
   "execution_count": 11,
   "id": "e0424695",
   "metadata": {},
   "outputs": [
    {
     "data": {
      "text/plain": [
       "(1.0, 3858)"
      ]
     },
     "execution_count": 11,
     "metadata": {},
     "output_type": "execute_result"
    }
   ],
   "source": [
    "Npz = np.zeros((n_pap, n_pap*n_rev))\n",
    "nonzero = np.nonzero(Np)\n",
    "nonzero_row = nonzero[0]\n",
    "nonzero_col = nonzero[1]\n",
    "for row, col in zip(nonzero_row, nonzero_col):\n",
    "    Npz[row][col] = 1\n",
    "    \n",
    "np.max(Npz.sum(axis=0)), np.count_nonzero(Npz.sum(axis=0))"
   ]
  },
  {
   "cell_type": "code",
   "execution_count": 12,
   "id": "ca24c1be",
   "metadata": {},
   "outputs": [
    {
     "data": {
      "text/plain": [
       "(1.0, 3858)"
      ]
     },
     "execution_count": 12,
     "metadata": {},
     "output_type": "execute_result"
    }
   ],
   "source": [
    "Nrz = np.zeros((n_rev, n_pap*n_rev))\n",
    "nonzero = np.nonzero(Nr)\n",
    "nonzero_row = nonzero[0]\n",
    "nonzero_col = nonzero[1]\n",
    "for row, col in zip(nonzero_row, nonzero_col):\n",
    "    Nrz[row][col] = 1\n",
    "    \n",
    "np.max(Nrz.sum(axis=0)), np.count_nonzero(Nrz.sum(axis=0))"
   ]
  },
  {
   "cell_type": "code",
   "execution_count": 13,
   "id": "000bb1a2",
   "metadata": {},
   "outputs": [
    {
     "data": {
      "text/plain": [
       "(array([ 57.,  98., 124.,  91., 123., 132., 121.,  31.,   3., 103.,  81.,\n",
       "         80., 102.,  77., 107., 101.,  98., 112.,  97.,  36.,  58.,  90.,\n",
       "         91.,  64.,  95.,  23.,  27., 105., 110.,  55.,  73.,  96.,  93.,\n",
       "         81.,  29.,  65.,  35.,  64.,  91.,  43.,  72., 102.,  64.,  93.,\n",
       "        107., 126., 132.]),\n",
       " array([0. , 0. , 0. , 0. , 0. , 0. , 0. , 0. , 0. , 0. , 0. , 0. , 0. ,\n",
       "        0. , 0. , 0. , 0. , 0.5, 0. , 0. , 0. , 0. , 0. , 0. , 0. , 0. ,\n",
       "        0. , 0. , 0. , 0. , 0. , 0. , 0. , 0. , 0. , 0. , 0. , 0. , 0. ,\n",
       "        0. , 0. , 0. , 0. , 0. , 0. , 0. , 0. , 0. , 0. , 0. , 0. , 0. ,\n",
       "        0. , 0. , 0. , 0. , 0. , 0. , 0.2, 0. , 0. , 0. , 0. , 0. , 0. ,\n",
       "        0. , 0. , 0. , 0. , 0. , 0. , 0. , 0. , 0. , 0. , 0. , 0. , 0. ,\n",
       "        0. , 0. , 0. , 0. , 0. , 0. , 0. , 0. , 0. , 0. , 0. , 0. , 0. ,\n",
       "        0. , 0. , 0. , 0. , 0. , 0. , 0. , 0. , 0. , 0. , 0. , 0. , 0. ,\n",
       "        0. , 0. , 0. , 0. , 0. , 0. , 0. , 0. , 0. , 0. , 0. , 0. , 0. ,\n",
       "        0. , 0. , 0. , 0. , 0. , 0. , 0. , 0. , 0.5, 0. , 0. , 0. , 0. ,\n",
       "        0. , 0. , 0. ]))"
      ]
     },
     "execution_count": 13,
     "metadata": {},
     "output_type": "execute_result"
    }
   ],
   "source": [
    "Nrz.sum(axis=1), weights[8]"
   ]
  },
  {
   "cell_type": "code",
   "execution_count": 14,
   "id": "e0d5e374",
   "metadata": {},
   "outputs": [
    {
     "data": {
      "text/plain": [
       "[<matplotlib.lines.Line2D at 0x7f1b763d0d90>]"
      ]
     },
     "execution_count": 14,
     "metadata": {},
     "output_type": "execute_result"
    },
    {
     "data": {
      "image/png": "[encoded data removed]",
      "text/plain": [
       "<Figure size 640x480 with 1 Axes>"
      ]
     },
     "metadata": {},
     "output_type": "display_data"
    }
   ],
   "source": [
    "import matplotlib.pyplot as plt\n",
    "plt.plot(Nz.sum(axis=0))"
   ]
  },
  {
   "cell_type": "code",
   "execution_count": 19,
   "id": "9dc271e1",
   "metadata": {},
   "outputs": [
    {
     "data": {
      "text/plain": [
       "((133,), (133,))"
      ]
     },
     "execution_count": 19,
     "metadata": {},
     "output_type": "execute_result"
    }
   ],
   "source": [
    "(Np @ b).shape, cp.shape"
   ]
  },
  {
   "cell_type": "code",
   "execution_count": 26,
   "id": "7e096a48",
   "metadata": {},
   "outputs": [
    {
     "data": {
      "text/plain": [
       "array([ 3.55, 13.65, 20.14, 17.63, 19.22, 18.83, 23.29,  8.21,  0.54,\n",
       "       16.19, 20.  , 13.67,  8.72, 15.34, 19.56, 22.64, 15.44, 24.37,\n",
       "       18.65, 10.79, 12.69, 23.19, 18.81, 17.4 , 17.75,  5.84,  1.33,\n",
       "       22.54, 12.09, 10.59, 15.45, 15.5 , 18.08, 11.75,  0.64,  5.45,\n",
       "        1.38, 14.92, 17.15,  6.3 , 23.08, 20.95, 11.44, 18.74, 24.16,\n",
       "       14.81, 22.26])"
      ]
     },
     "execution_count": 26,
     "metadata": {},
     "output_type": "execute_result"
    }
   ],
   "source": [
    "Nr @ b"
   ]
  },
  {
   "cell_type": "code",
   "execution_count": 24,
   "id": "f27406c2",
   "metadata": {},
   "outputs": [
    {
     "data": {
      "text/plain": [
       "array([0.0875, 1.255 , 2.4125, 1.75  , 1.5175, 2.5025, 1.48  , 1.61  ,\n",
       "       1.8125, 1.4975, 1.75  , 0.4   , 2.1875, 2.45  , 0.1725, 1.56  ,\n",
       "       0.0875, 0.1025, 1.87  , 1.2775, 1.015 , 0.2875, 1.5875, 1.745 ,\n",
       "       1.5875, 1.705 , 1.2325, 0.5625, 0.2325, 1.75  , 0.62  , 1.5175,\n",
       "       0.0875, 1.3275, 1.2425, 1.95  , 1.1075, 1.61  , 2.3925, 2.305 ,\n",
       "       1.75  , 1.015 , 2.37  , 1.235 , 1.745 , 2.3925, 1.61  , 2.4625,\n",
       "       0.2875, 0.2875, 1.1925, 1.7225, 1.3925, 1.3275, 0.1675, 1.7975,\n",
       "       0.28  , 2.52  , 0.525 , 1.72  , 0.6475, 2.3925, 0.2875, 0.3475,\n",
       "       0.3825, 1.5175, 0.4425, 0.285 , 0.9675, 1.6   , 1.0325, 1.0125,\n",
       "       2.2   , 1.5175, 1.53  , 0.0875, 1.75  , 2.3925, 0.2875, 0.855 ,\n",
       "       0.0875, 1.7075, 1.4975, 1.7275, 1.71  , 1.75  , 0.3475, 1.61  ,\n",
       "       1.5175, 1.75  , 1.5875, 2.08  , 0.9675, 1.5875, 1.745 , 1.6   ,\n",
       "       1.6875, 1.575 , 1.75  , 1.3925, 0.5975, 1.5875, 1.4525, 0.1675,\n",
       "       1.61  , 1.61  , 1.745 , 1.2425, 0.575 , 1.6875, 0.3475, 1.5175,\n",
       "       1.6875, 2.075 , 1.2425, 1.455 , 2.3925, 0.1725, 1.745 , 2.5025,\n",
       "       1.1925, 1.5075, 0.4425, 1.75  , 1.61  , 0.22  , 1.61  , 1.3275,\n",
       "       0.0875, 1.3525, 1.7775, 0.5625, 0.1675])"
      ]
     },
     "execution_count": 24,
     "metadata": {},
     "output_type": "execute_result"
    }
   ],
   "source": [
    "Np @ b / cp"
   ]
  },
  {
   "cell_type": "code",
   "execution_count": null,
   "id": "9913cd28",
   "metadata": {},
   "outputs": [],
   "source": []
  }
 ],
 "metadata": {
  "kernelspec": {
   "display_name": "Python 3 (ipykernel)",
   "language": "python",
   "name": "python3"
  },
  "language_info": {
   "codemirror_mode": {
    "name": "ipython",
    "version": 3
   },
   "file_extension": ".py",
   "mimetype": "text/x-python",
   "name": "python",
   "nbconvert_exporter": "python",
   "pygments_lexer": "ipython3",
   "version": "3.8.10"
  }
 },
 "nbformat": 4,
 "nbformat_minor": 5
}
