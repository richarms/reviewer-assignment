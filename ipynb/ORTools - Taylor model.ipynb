{
 "cells": [
  {
   "cell_type": "code",
   "execution_count": 1,
   "id": "c7cd5799",
   "metadata": {},
   "outputs": [
    {
     "name": "stdout",
     "output_type": "stream",
     "text": [
      "Collecting ortools\n",
      "  Downloading ortools-9.5.2237-cp38-cp38-manylinux_2_17_x86_64.manylinux2014_x86_64.whl (16.3 MB)\n",
      "\u001b[K     |████████████████████████████████| 16.3 MB 146 kB/s eta 0:00:01\n",
      "\u001b[?25hCollecting protobuf>=4.21.5\n",
      "  Downloading protobuf-4.21.12-cp37-abi3-manylinux2014_x86_64.whl (409 kB)\n",
      "\u001b[K     |████████████████████████████████| 409 kB 101.2 MB/s eta 0:00:01\n",
      "\u001b[?25hCollecting absl-py>=0.13\n",
      "  Downloading absl_py-1.4.0-py3-none-any.whl (126 kB)\n",
      "\u001b[K     |████████████████████████████████| 126 kB 99.0 MB/s eta 0:00:01\n",
      "\u001b[?25hRequirement already satisfied: numpy>=1.13.3 in ./venv/lib/python3.8/site-packages (from ortools) (1.24.1)\n",
      "Installing collected packages: protobuf, absl-py, ortools\n",
      "Successfully installed absl-py-1.4.0 ortools-9.5.2237 protobuf-4.21.12\n",
      "Note: you may need to restart the kernel to use updated packages.\n"
     ]
    }
   ],
   "source": [
    "%pip install ortools \n",
    "from ortools.linear_solver import pywraplp"
   ]
  },
  {
   "cell_type": "code",
   "execution_count": 2,
   "id": "699d50a1",
   "metadata": {},
   "outputs": [],
   "source": [
    "solver = pywraplp.Solver.CreateSolver('GLOP')"
   ]
  },
  {
   "cell_type": "code",
   "execution_count": 3,
   "id": "a7694b18",
   "metadata": {},
   "outputs": [
    {
     "name": "stdout",
     "output_type": "stream",
     "text": [
      "Number of variables = 2\n"
     ]
    }
   ],
   "source": [
    "x = solver.NumVar(0, solver.infinity(), 'x')\n",
    "y = solver.NumVar(0, solver.infinity(), 'y')\n",
    "\n",
    "print('Number of variables =', solver.NumVariables())"
   ]
  },
  {
   "cell_type": "code",
   "execution_count": 4,
   "id": "1317f66b",
   "metadata": {},
   "outputs": [
    {
     "name": "stdout",
     "output_type": "stream",
     "text": [
      "Number of constraints = 3\n"
     ]
    }
   ],
   "source": [
    "# Constraint 0: x + 2y <= 14.\n",
    "solver.Add(x + 2 * y <= 14.0)\n",
    "\n",
    "# Constraint 1: 3x - y >= 0.\n",
    "solver.Add(3 * x - y >= 0.0)\n",
    "\n",
    "# Constraint 2: x - y <= 2.\n",
    "solver.Add(x - y <= 2.0)\n",
    "\n",
    "print('Number of constraints =', solver.NumConstraints())"
   ]
  },
  {
   "cell_type": "code",
   "execution_count": 5,
   "id": "7b15cab9",
   "metadata": {},
   "outputs": [],
   "source": [
    "# Objective function: 3x + 4y.\n",
    "solver.Maximize(3 * x + 4 * y)"
   ]
  },
  {
   "cell_type": "code",
   "execution_count": 6,
   "id": "5d97ddfe",
   "metadata": {},
   "outputs": [],
   "source": [
    "status = solver.Solve()"
   ]
  },
  {
   "cell_type": "code",
   "execution_count": 7,
   "id": "73afda16",
   "metadata": {},
   "outputs": [
    {
     "name": "stdout",
     "output_type": "stream",
     "text": [
      "Solution:\n",
      "Objective value = 33.99999999999999\n",
      "x = 5.999999999999998\n",
      "y = 3.9999999999999996\n"
     ]
    }
   ],
   "source": [
    "if status == pywraplp.Solver.OPTIMAL:\n",
    "    print('Solution:')\n",
    "    print('Objective value =', solver.Objective().Value())\n",
    "    print('x =', x.solution_value())\n",
    "    print('y =', y.solution_value())\n",
    "else:\n",
    "    print('The problem does not have an optimal solution.')"
   ]
  },
  {
   "cell_type": "code",
   "execution_count": null,
   "id": "42441de7",
   "metadata": {},
   "outputs": [],
   "source": []
  }
 ],
 "metadata": {
  "kernelspec": {
   "display_name": "Python 3 (ipykernel)",
   "language": "python",
   "name": "python3"
  },
  "language_info": {
   "codemirror_mode": {
    "name": "ipython",
    "version": 3
   },
   "file_extension": ".py",
   "mimetype": "text/x-python",
   "name": "python",
   "nbconvert_exporter": "python",
   "pygments_lexer": "ipython3",
   "version": "3.8.10"
  }
 },
 "nbformat": 4,
 "nbformat_minor": 5
}
