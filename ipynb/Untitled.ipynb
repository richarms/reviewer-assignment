{
 "cells": [
  {
   "cell_type": "code",
   "execution_count": 1,
   "id": "dd5085ee",
   "metadata": {},
   "outputs": [],
   "source": [
    "import numpy as np\n",
    "import uuid\n",
    "import pulp"
   ]
  },
  {
   "cell_type": "code",
   "execution_count": 2,
   "id": "d22e88dc",
   "metadata": {},
   "outputs": [],
   "source": [
    "id = uuid.uuid1()\n",
    "opt_model = pulp.LpProblem(name=f\"{id}:lp\")\n",
    "\n",
    "affinity = np.load('scores.npy')\n",
    "coeff = list(affinity.flatten())\n",
    "\n",
    "n_rev = np.size(affinity, axis=0)\n",
    "n_pap = np.size(affinity, axis=1)"
   ]
  },
  {
   "cell_type": "code",
   "execution_count": 3,
   "id": "dfab7655",
   "metadata": {},
   "outputs": [],
   "source": [
    "# Primal Vars.\n",
    "lp_vars = pulp.LpVariable.dicts(\"x\", (range(n_rev), range(n_pap)), cat=\"Binary\")\n",
    "lp_vars.update()\n",
    "for idx,i in enumerate(range(n_rev)):\n",
    "    for jdx,j in enumerate(range(n_pap)):\n",
    "        lp_vars[i][j] = affinity[i,j]\n",
    "lp_vars.update()"
   ]
  },
  {
   "cell_type": "code",
   "execution_count": 4,
   "id": "fe45f18c",
   "metadata": {},
   "outputs": [],
   "source": [
    "# Objective.\n",
    "opt_model.sense = pulp.LpMaximize"
   ]
  },
  {
   "cell_type": "code",
   "execution_count": 5,
   "id": "a6148d12",
   "metadata": {},
   "outputs": [
    {
     "ename": "TypeError",
     "evalue": "Can only add LpConstraint objects",
     "output_type": "error",
     "traceback": [
      "\u001b[0;31m---------------------------------------------------------------------------\u001b[0m",
      "\u001b[0;31mTypeError\u001b[0m                                 Traceback (most recent call last)",
      "Cell \u001b[0;32mIn[5], line 3\u001b[0m\n\u001b[1;32m      1\u001b[0m \u001b[38;5;66;03m# Constraints.\u001b[39;00m\n\u001b[1;32m      2\u001b[0m loads \u001b[38;5;241m=\u001b[39m np\u001b[38;5;241m.\u001b[39mload(\u001b[38;5;124m'\u001b[39m\u001b[38;5;124mmk/loads.npy\u001b[39m\u001b[38;5;124m'\u001b[39m)\n\u001b[0;32m----> 3\u001b[0m opt_model\u001b[38;5;241m.\u001b[39mConstraints \u001b[38;5;241m=\u001b[39m \u001b[43mopt_model\u001b[49m\u001b[38;5;241;43m.\u001b[39;49m\u001b[43maddConstraint\u001b[49m\u001b[43m(\u001b[49m\u001b[43m(\u001b[49m\u001b[43mlp_vars\u001b[49m\u001b[38;5;241;43m.\u001b[39;49m\u001b[43msum\u001b[49m\u001b[43m(\u001b[49m\u001b[43mr\u001b[49m\u001b[43m,\u001b[49m\u001b[43m \u001b[49m\u001b[38;5;124;43m\"\u001b[39;49m\u001b[38;5;124;43m*\u001b[39;49m\u001b[38;5;124;43m\"\u001b[39;49m\u001b[43m)\u001b[49m\u001b[43m \u001b[49m\u001b[38;5;241;43m<\u001b[39;49m\u001b[38;5;241;43m=\u001b[39;49m\u001b[43m \u001b[49m\u001b[43ml\u001b[49m\u001b[43m \u001b[49m\u001b[38;5;28;43;01mfor\u001b[39;49;00m\u001b[43m \u001b[49m\u001b[43mr\u001b[49m\u001b[43m,\u001b[49m\u001b[43m \u001b[49m\u001b[43ml\u001b[49m\u001b[43m \u001b[49m\u001b[38;5;129;43;01min\u001b[39;49;00m\u001b[43m \u001b[49m\u001b[38;5;28;43menumerate\u001b[39;49m\u001b[43m(\u001b[49m\u001b[43mloads\u001b[49m\u001b[43m)\u001b[49m\u001b[43m)\u001b[49m\u001b[43m)\u001b[49m\n",
      "File \u001b[0;32m/scratch/src/reviewer-assignment/venv/lib/python3.8/site-packages/pulp/pulp.py:1645\u001b[0m, in \u001b[0;36mLpProblem.addConstraint\u001b[0;34m(self, constraint, name)\u001b[0m\n\u001b[1;32m   1643\u001b[0m \u001b[38;5;28;01mdef\u001b[39;00m \u001b[38;5;21maddConstraint\u001b[39m(\u001b[38;5;28mself\u001b[39m, constraint, name\u001b[38;5;241m=\u001b[39m\u001b[38;5;28;01mNone\u001b[39;00m):\n\u001b[1;32m   1644\u001b[0m     \u001b[38;5;28;01mif\u001b[39;00m \u001b[38;5;129;01mnot\u001b[39;00m \u001b[38;5;28misinstance\u001b[39m(constraint, LpConstraint):\n\u001b[0;32m-> 1645\u001b[0m         \u001b[38;5;28;01mraise\u001b[39;00m \u001b[38;5;167;01mTypeError\u001b[39;00m(\u001b[38;5;124m\"\u001b[39m\u001b[38;5;124mCan only add LpConstraint objects\u001b[39m\u001b[38;5;124m\"\u001b[39m)\n\u001b[1;32m   1646\u001b[0m     \u001b[38;5;28;01mif\u001b[39;00m name:\n\u001b[1;32m   1647\u001b[0m         constraint\u001b[38;5;241m.\u001b[39mname \u001b[38;5;241m=\u001b[39m name\n",
      "\u001b[0;31mTypeError\u001b[0m: Can only add LpConstraint objects"
     ]
    }
   ],
   "source": [
    "# Constraints.\n",
    "loads = np.load('mk/loads.npy')\n",
    "opt_model.Constraints = opt_model.addConstraint((lp_vars.sum(r, \"*\") <= l for r, l in enumerate(loads)))"
   ]
  },
  {
   "cell_type": "code",
   "execution_count": 6,
   "id": "fb26c06b",
   "metadata": {},
   "outputs": [],
   "source": [
    "g=(lp_vars.sum(r, \"*\") <= l for r, l in enumerate(loads))"
   ]
  },
  {
   "cell_type": "code",
   "execution_count": 7,
   "id": "57fb2d10",
   "metadata": {},
   "outputs": [
    {
     "ename": "AttributeError",
     "evalue": "'dict' object has no attribute 'sum'",
     "output_type": "error",
     "traceback": [
      "\u001b[0;31m---------------------------------------------------------------------------\u001b[0m",
      "\u001b[0;31mAttributeError\u001b[0m                            Traceback (most recent call last)",
      "Cell \u001b[0;32mIn[7], line 1\u001b[0m\n\u001b[0;32m----> 1\u001b[0m \u001b[43mlp_vars\u001b[49m\u001b[38;5;241;43m.\u001b[39;49m\u001b[43msum\u001b[49m(r, \u001b[38;5;124m\"\u001b[39m\u001b[38;5;124m*\u001b[39m\u001b[38;5;124m\"\u001b[39m) \u001b[38;5;241m<\u001b[39m\u001b[38;5;241m=\u001b[39m \u001b[38;5;241m1\u001b[39m\n",
      "\u001b[0;31mAttributeError\u001b[0m: 'dict' object has no attribute 'sum'"
     ]
    }
   ],
   "source": [
    "lp_vars.sum(r, \"*\") <= 1"
   ]
  },
  {
   "cell_type": "code",
   "execution_count": null,
   "id": "c9da743f",
   "metadata": {},
   "outputs": [],
   "source": []
  }
 ],
 "metadata": {
  "kernelspec": {
   "display_name": "Python 3 (ipykernel)",
   "language": "python",
   "name": "python3"
  },
  "language_info": {
   "codemirror_mode": {
    "name": "ipython",
    "version": 3
   },
   "file_extension": ".py",
   "mimetype": "text/x-python",
   "name": "python",
   "nbconvert_exporter": "python",
   "pygments_lexer": "ipython3",
   "version": "3.8.10"
  }
 },
 "nbformat": 4,
 "nbformat_minor": 5
}
