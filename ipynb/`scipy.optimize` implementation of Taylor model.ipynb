{
 "cells": [
  {
   "cell_type": "code",
   "execution_count": 1,
   "id": "4e909427",
   "metadata": {},
   "outputs": [],
   "source": [
    "import numpy as np\n",
    "import scipy.optimize\n",
    "import matplotlib.pyplot as plt"
   ]
  },
  {
   "cell_type": "code",
   "execution_count": 2,
   "id": "e772c6bb",
   "metadata": {},
   "outputs": [
    {
     "data": {
      "text/plain": [
       "(132, 47, (47, 132), (6204,))"
      ]
     },
     "execution_count": 2,
     "metadata": {},
     "output_type": "execute_result"
    },
    {
     "data": {
      "image/png": "[encoded data removed]",
      "text/plain": [
       "<Figure size 640x480 with 1 Axes>"
      ]
     },
     "metadata": {},
     "output_type": "display_data"
    }
   ],
   "source": [
    "affinity = np.load('/scratch/src/reviewer-assignment/scores.npy')\n",
    "\n",
    "n_rev = np.size(affinity, axis=0)\n",
    "n_pap = np.size(affinity, axis=1)\n",
    "\n",
    "a = affinity.flatten(order='C')\n",
    "b = np.ones(a.shape[0])\n",
    "\n",
    "plt.imshow(affinity)\n",
    "\n",
    "n_pap, n_rev, affinity.shape, b.shape"
   ]
  },
  {
   "cell_type": "code",
   "execution_count": 3,
   "id": "ad2f1ca6",
   "metadata": {},
   "outputs": [],
   "source": [
    "Np = np.zeros((n_pap, n_pap*n_rev))\n",
    "Nr = np.zeros((n_rev, n_pap*n_rev))"
   ]
  },
  {
   "cell_type": "code",
   "execution_count": 4,
   "id": "555d5efb",
   "metadata": {},
   "outputs": [],
   "source": [
    "for pdx,p in enumerate(affinity.transpose()):\n",
    "    for rdx,val in enumerate(p):\n",
    "        if val > 0.:\n",
    "            Np[pdx][rdx*n_pap + pdx] = 1\n",
    "        \n",
    "for rdx,r in enumerate(affinity):\n",
    "    for pdx,val in enumerate(r):\n",
    "        if val > 0.:\n",
    "            Nr[rdx][rdx*n_pap + pdx] = 1"
   ]
  },
  {
   "cell_type": "code",
   "execution_count": 5,
   "id": "a71a2b0c",
   "metadata": {},
   "outputs": [],
   "source": [
    "I = np.identity(n_pap*n_rev)\n",
    "#K = np.vstack((Np, Nr, I, -I))\n",
    "K = np.vstack((Np, Nr, -Nr, I, -I))\n",
    "N = np.vstack((Np, Nr))"
   ]
  },
  {
   "cell_type": "code",
   "execution_count": 6,
   "id": "7efce558",
   "metadata": {},
   "outputs": [
    {
     "data": {
      "text/plain": [
       "((6204,), (6204,), (12634, 6204))"
      ]
     },
     "execution_count": 6,
     "metadata": {},
     "output_type": "execute_result"
    }
   ],
   "source": [
    "(I @ a ).shape, a.shape, K.shape"
   ]
  },
  {
   "cell_type": "code",
   "execution_count": 7,
   "id": "4c433295",
   "metadata": {},
   "outputs": [],
   "source": [
    "cp = 4*np.ones(n_pap)\n",
    "cr = 20*np.ones(n_rev)\n",
    "crlb = -10*np.ones(n_rev)\n",
    "\n",
    "c = np.concatenate((cp, cr))\n",
    "#c = np.concatenate((cp, cr, crlb)) \n",
    "\n",
    "zeroes = np.zeros(I.shape[0])\n",
    "ones = np.ones(I.shape[0])\n",
    "d = np.concatenate((cp, cr, crlb, ones, zeroes))"
   ]
  },
  {
   "cell_type": "code",
   "execution_count": 8,
   "id": "51d557db",
   "metadata": {},
   "outputs": [],
   "source": [
    "assert (Np @ a).shape == cp.shape\n",
    "assert (Nr @ a).shape == cr.shape\n",
    "assert (N @ a).shape == c.shape"
   ]
  },
  {
   "cell_type": "code",
   "execution_count": 9,
   "id": "18d50f41",
   "metadata": {},
   "outputs": [
    {
     "data": {
      "text/plain": [
       "array([-0.4, -0.3, -0.3, ..., -0.6, -0.3, -0.1])"
      ]
     },
     "execution_count": 9,
     "metadata": {},
     "output_type": "execute_result"
    }
   ],
   "source": [
    "assert (I @ a).shape == ones.shape\n",
    "assert (-I @ a).shape == zeroes.shape\n",
    "-I @ a"
   ]
  },
  {
   "cell_type": "code",
   "execution_count": 10,
   "id": "b71fb94d",
   "metadata": {},
   "outputs": [
    {
     "name": "stdout",
     "output_type": "stream",
     "text": [
      "Running HiGHS 1.2.0 [date: 2021-07-09, git hash: n/a]\n",
      "Copyright (c) 2022 ERGO-Code under MIT licence terms\n",
      "Presolving model\n",
      "226 rows, 4480 cols, 13440 nonzeros\n",
      "179 rows, 4480 cols, 8960 nonzeros\n",
      "Presolve : Reductions: rows 179(-12455); columns 4480(-1724); elements 8960(-16888)\n",
      "Solving the presolved LP\n",
      "Using EKK dual simplex solver - serial\n",
      "  Iteration        Objective     Infeasibilities num(sum)\n",
      "          0     0.0000000000e+00 Ph1: 0(0) 0s\n",
      "       1262    -2.9280000000e+02 Pr: 0(0); Du: 0(8.88178e-16) 0s\n",
      "Solving the original LP from the solution after postsolve\n",
      "Model   status      : Optimal\n",
      "Simplex   iterations: 1262\n",
      "Objective value     : -2.9280000000e+02\n",
      "HiGHS run time      :          0.03\n"
     ]
    }
   ],
   "source": [
    "res = scipy.optimize.linprog(-a, A_ub=K, b_ub=d, bounds=(0,1), options={'disp': True})#, integrality=3)\n",
    "#res = scipy.optimize.linprog(-a, A_ub=N, b_ub=c, bounds=(0,1), options={'disp': True})#, integrality=3)"
   ]
  },
  {
   "cell_type": "code",
   "execution_count": 11,
   "id": "e2c57bf6",
   "metadata": {},
   "outputs": [
    {
     "data": {
      "text/plain": [
       "(        message: Optimization terminated successfully. (HiGHS Status 7: Optimal)\n",
       "         success: True\n",
       "          status: 0\n",
       "             fun: -292.7999999999996\n",
       "               x: [ 1.000e+00  0.000e+00 ...  0.000e+00  0.000e+00]\n",
       "             nit: 1262\n",
       "           lower:  residual: [ 1.000e+00  0.000e+00 ...  0.000e+00\n",
       "                               0.000e+00]\n",
       "                  marginals: [ 0.000e+00  3.000e-01 ...  2.000e-01\n",
       "                               3.000e-01]\n",
       "           upper:  residual: [ 0.000e+00  1.000e+00 ...  1.000e+00\n",
       "                               1.000e+00]\n",
       "                  marginals: [-2.000e-01  0.000e+00 ...  0.000e+00\n",
       "                               0.000e+00]\n",
       "           eqlin:  residual: []\n",
       "                  marginals: []\n",
       "         ineqlin:  residual: [ 0.000e+00  0.000e+00 ...  0.000e+00\n",
       "                               0.000e+00]\n",
       "                  marginals: [-2.000e-01 -6.000e-01 ... -0.000e+00\n",
       "                              -0.000e+00]\n",
       "  mip_node_count: 0\n",
       "  mip_dual_bound: 0.0\n",
       "         mip_gap: 0.0,\n",
       " array([12., 10., 10., 10., 10., 10., 10., 10., 14., 10., 10., 10., 10.,\n",
       "        15., 10., 15., 10., 10., 10., 20., 10., 18., 10., 10., 10., 20.,\n",
       "        10., 10., 14., 20., 10., 10., 10., 10., 10., 10., 10., 10., 10.,\n",
       "        10., 10., 10., 10., 10., 10., 10., 10.]),\n",
       " array([4., 4., 4., 4., 4., 4., 4., 4., 4., 4., 4., 4., 4., 4., 4., 4., 4.,\n",
       "        4., 4., 4., 4., 4., 4., 4., 4., 4., 4., 4., 4., 4., 4., 4., 4., 4.,\n",
       "        4., 4., 4., 4., 4., 4., 4., 4., 4., 4., 4., 4., 4., 4., 4., 4., 4.,\n",
       "        4., 4., 4., 4., 4., 4., 4., 4., 4., 4., 4., 4., 4., 4., 4., 4., 4.,\n",
       "        4., 4., 4., 4., 4., 4., 4., 4., 4., 4., 4., 4., 4., 4., 4., 4., 4.,\n",
       "        4., 4., 4., 4., 4., 4., 4., 4., 4., 4., 4., 4., 4., 4., 4., 4., 4.,\n",
       "        4., 4., 4., 4., 4., 4., 4., 4., 4., 4., 4., 4., 4., 4., 4., 4., 4.,\n",
       "        4., 4., 4., 4., 4., 4., 4., 4., 4., 4., 4., 4., 4.]))"
      ]
     },
     "execution_count": 11,
     "metadata": {},
     "output_type": "execute_result"
    },
    {
     "data": {
      "image/png": "[encoded data removed]",
      "text/plain": [
       "<Figure size 640x480 with 1 Axes>"
      ]
     },
     "metadata": {},
     "output_type": "display_data"
    }
   ],
   "source": [
    "B=res.x.reshape(affinity.shape)\n",
    "plt.imshow(B)\n",
    "res, B.sum(axis=1), B.sum(axis=0)"
   ]
  },
  {
   "cell_type": "code",
   "execution_count": 12,
   "id": "ed7fd164",
   "metadata": {},
   "outputs": [
    {
     "data": {
      "text/plain": [
       "(1.0,\n",
       " array([1., 0., 0., 0., 0., 0., 0., 0., 0., 0., 0., 0., 0., 0., 0., 0., 0.,\n",
       "        0., 0., 0., 0., 0., 0., 0., 0., 0., 1., 1., 0., 0., 0., 1., 0., 0.,\n",
       "        0., 0., 0., 0., 0., 0., 0., 0., 0., 0., 0., 0., 0.]),\n",
       " (528,),\n",
       " (5676,),\n",
       " 6204,\n",
       " (6204,))"
      ]
     },
     "execution_count": 12,
     "metadata": {},
     "output_type": "execute_result"
    }
   ],
   "source": [
    "#plt.plot(res.x)\n",
    "np.max(res.x), res.x[0:47], np.where(res.x==1)[0].shape, np.where(res.x==0)[0].shape, np.where(res.x==1)[0].shape[0] + np.where(res.x==0)[0].shape[0], res.x.shape"
   ]
  },
  {
   "cell_type": "code",
   "execution_count": 13,
   "id": "533f1d15",
   "metadata": {},
   "outputs": [],
   "source": [
    "#a[133:266] #np.count_nonzero(res.ineqlin.residual), res.ineqlin.residual"
   ]
  }
 ],
 "metadata": {
  "kernelspec": {
   "display_name": "Python 3 (ipykernel)",
   "language": "python",
   "name": "python3"
  },
  "language_info": {
   "codemirror_mode": {
    "name": "ipython",
    "version": 3
   },
   "file_extension": ".py",
   "mimetype": "text/x-python",
   "name": "python",
   "nbconvert_exporter": "python",
   "pygments_lexer": "ipython3",
   "version": "3.8.10"
  }
 },
 "nbformat": 4,
 "nbformat_minor": 5
}
